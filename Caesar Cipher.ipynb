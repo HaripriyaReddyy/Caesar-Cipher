{
 "cells": [
  {
   "cell_type": "code",
   "execution_count": 1,
   "id": "cfaf002c",
   "metadata": {},
   "outputs": [
    {
     "name": "stdout",
     "output_type": "stream",
     "text": [
      "Type 'encode' to encrypt, type 'decode' to decrypt:\n",
      "encode\n",
      "Type your message:\n",
      "hello!\n",
      "Type the shift number:\n",
      "5\n",
      "Here's the encoded result: mjqqt!\n",
      "Type 'yes' if you wanna go again, otherwise type 'no' \n",
      "yes\n",
      "Type 'encode' to encrypt, type 'decode' to decrypt:\n",
      "decode\n",
      "Type your message:\n",
      "mjqqt!\n",
      "Type the shift number:\n",
      "5\n",
      "Here's the decoded result: hello!\n",
      "Type 'yes' if you wanna go again, otherwise type 'no' \n",
      "no\n",
      "Goodbye\n"
     ]
    }
   ],
   "source": [
    "alphabet = ['a', 'b', 'c', 'd', 'e', 'f', 'g', 'h', 'i', 'j', 'k', 'l', 'm', 'n', 'o', 'p', 'q', 'r', 's', 't', 'u', 'v', 'w', 'x', 'y', 'z', 'a', 'b', 'c', 'd', 'e', 'f', 'g', 'h', 'i', 'j', 'k', 'l', 'm', 'n', 'o', 'p', 'q', 'r', 's', 't', 'u', 'v', 'w', 'x', 'y', 'z']\n",
    "start_again=True\n",
    "#declaring the start_again variable as True to keep the while loop running.\n",
    "while start_again:\n",
    "  def caesar(start_text, shift_amount, cipher_direction):\n",
    "    end_text = \"\"\n",
    "#creating an empty varible to store the result\n",
    "    if cipher_direction == \"decode\":\n",
    "      shift_amount *= -1\n",
    "#shift_amount is used for right direction shift during decoding.\n",
    "    for char in start_text:\n",
    "      if char in alphabet:\n",
    "        position = alphabet.index(char)\n",
    "        new_position = position + shift_amount\n",
    "        end_text += alphabet[new_position]\n",
    "#this if loop is used only to encode/decode alphabets\n",
    "      else:\n",
    "        end_text += char\n",
    "#if the input has numbers, blanks or special characters, they get added after encryption or decryption.\n",
    "\n",
    "    print(f\"Here's the {cipher_direction}d result: {end_text}\")\n",
    "#the output is printed.\n",
    " \n",
    "  direction = input(\"Type 'encode' to encrypt, type 'decode' to decrypt:\\n\")\n",
    "  text = input(\"Type your message:\\n\").lower()\n",
    "  shift = int(input(\"Type the shift number:\\n\"))\n",
    "#the above variables store the inputs.\n",
    "\n",
    "  shift=shift % 26\n",
    "#if the shift value is more than 26, the above line ensures that it is in the range.\n",
    "  caesar(start_text=text, shift_amount=shift, cipher_direction=direction)\n",
    "#there we call the caesar function.\n",
    "  result=input(\"Type 'yes' if you wanna go again, otherwise type 'no' \\n\")\n",
    "  if result==\"no\":\n",
    "    start_again=False\n",
    "    print(\"Goodbye\")\n",
    "#Checking if the user wants to exit or run the program again"
   ]
  },
  {
   "cell_type": "code",
   "execution_count": null,
   "id": "62f0b1dd",
   "metadata": {},
   "outputs": [],
   "source": []
  }
 ],
 "metadata": {
  "kernelspec": {
   "display_name": "Python 3 (ipykernel)",
   "language": "python",
   "name": "python3"
  },
  "language_info": {
   "codemirror_mode": {
    "name": "ipython",
    "version": 3
   },
   "file_extension": ".py",
   "mimetype": "text/x-python",
   "name": "python",
   "nbconvert_exporter": "python",
   "pygments_lexer": "ipython3",
   "version": "3.9.12"
  }
 },
 "nbformat": 4,
 "nbformat_minor": 5
}
